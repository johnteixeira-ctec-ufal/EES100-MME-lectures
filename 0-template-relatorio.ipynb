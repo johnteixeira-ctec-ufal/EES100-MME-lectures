{
 "cells": [
  {
   "cell_type": "markdown",
   "id": "dcbd90cf",
   "metadata": {},
   "source": [
    "# Relátorio de Projeto Final \n",
    "\n",
    "**Métodos Computacionais - Prof. Gustavo Oliveira - Semestre 2020/02**\n",
    "\n",
    "\n",
    "**Alunos:** \n",
    "\n",
    "- Euclides de Alexandria, 'euclides.alexandria@nome.edu.br'\n",
    "- Rei Henrique VII, 'henry@eu.com'\n",
    "- Cosme de Médici, 'cmedici@yuhh.com.br'\n",
    "\n",
    "<hr>"
   ]
  },
  {
   "cell_type": "markdown",
   "id": "9a82467a-2cd3-4b34-a979-4d61996af0d5",
   "metadata": {},
   "source": [
    "## Descrição do problema"
   ]
  },
  {
   "cell_type": "markdown",
   "id": "17aca56c-85fa-4c7e-99e1-087e2b97b7ef",
   "metadata": {},
   "source": [
    "Descreva aqui o problema a ser tratado. (O quê?)"
   ]
  },
  {
   "cell_type": "markdown",
   "id": "13aeb66a-541e-4a29-b09a-204dd2c7ca80",
   "metadata": {},
   "source": [
    "## Metodologia de solução"
   ]
  },
  {
   "cell_type": "markdown",
   "id": "f2ec6507-6929-4ef8-861e-49a3e9d81a64",
   "metadata": {},
   "source": [
    "Descreva a metodologia utilizada para resolver o problema proposto. (Como?)"
   ]
  },
  {
   "cell_type": "markdown",
   "id": "5de094cb-e85c-4072-be55-82ff0155f754",
   "metadata": {},
   "source": [
    "## Resultados, análise e discussão\n",
    "\n",
    "Adicione gráficos, figuras, tabelas e informações necessárias (E aí?)"
   ]
  },
  {
   "cell_type": "markdown",
   "id": "2fc9db8d-f5d8-4b02-84ae-8cc60bf5a833",
   "metadata": {},
   "source": [
    "## Referências bibliográficas\n",
    "\n",
    "Registre qualquer bibliografia utilizada para resolver o problema.\n",
    "\n",
    "- Livro\n",
    "- Site\n",
    "- Link\n",
    "- Post\n",
    "- etc."
   ]
  },
  {
   "cell_type": "markdown",
   "id": "71570da8-f40d-4f04-a3ab-d637f1046826",
   "metadata": {},
   "source": [
    "### Ajuda (esta seção não deve ser incluída no relatório!)"
   ]
  },
  {
   "cell_type": "markdown",
   "id": "fb37b4af-271c-43ea-9d97-881da26a118d",
   "metadata": {},
   "source": [
    "Recursos para aprender como escrever o relatório. Caso queira fazer algo e não saiba, pergunte ao professor. Se ele souber, orientará como fazer.\n",
    "\n",
    "- O que é Markdown?: [link](https://pt.wikipedia.org/wiki/Markdown)\n",
    "\n",
    "- Dicas rápidas de Markdown: [link](https://www.markdownguide.org/cheat-sheet/)\n",
    "\n",
    "- Editor online para aprender Markdown: [link](https://stackedit.io/app#)\n",
    "\n",
    "- Como inserir texto, imagens e tabelas em notebooks: [link](https://www.earthdatascience.org/courses/intro-to-earth-data-science/file-formats/use-text-files/format-text-with-markdown-jupyter-notebook/)"
   ]
  }
 ],
 "metadata": {
  "kernelspec": {
   "display_name": "Python 3",
   "language": "python",
   "name": "python3"
  },
  "language_info": {
   "codemirror_mode": {
    "name": "ipython",
    "version": 3
   },
   "file_extension": ".py",
   "mimetype": "text/x-python",
   "name": "python",
   "nbconvert_exporter": "python",
   "pygments_lexer": "ipython3",
   "version": "3.8.2"
  }
 },
 "nbformat": 4,
 "nbformat_minor": 5
}
